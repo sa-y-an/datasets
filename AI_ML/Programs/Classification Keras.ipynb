{
 "cells": [
  {
   "cell_type": "code",
   "execution_count": null,
   "metadata": {},
   "outputs": [],
   "source": [
    "import numpy as np\n",
    "import matplotlib.pyplot as plt"
   ]
  },
  {
   "cell_type": "code",
   "execution_count": null,
   "metadata": {},
   "outputs": [],
   "source": [
    "np.random.seed(0)\n",
    "n_pts = 100\n",
    "top_reg = np.array([np.random.normal(10,2,n_pts),\n",
    "                   np.random.normal(10,2,n_pts)]).T\n",
    "bot_reg = np.array([np.random.normal(5,2,n_pts),\n",
    "                   np.random.normal(5,2,n_pts)]).T\n",
    "\n",
    "xtr = np.vstack((top_reg,bot_reg))\n",
    "\n",
    "ytr = np.matrix(np.append(np.ones(n_pts),\n",
    "                         np.zeros(n_pts))).T"
   ]
  },
  {
   "cell_type": "code",
   "execution_count": null,
   "metadata": {},
   "outputs": [],
   "source": [
    "print('input dim',xtr.shape[1],sep=':')\n",
    "print('output dim',ytr.shape[1],sep=':')"
   ]
  },
  {
   "cell_type": "code",
   "execution_count": null,
   "metadata": {},
   "outputs": [],
   "source": [
    "plt.scatter(xtr[:n_pts,0],xtr[:n_pts,1])\n",
    "plt.scatter(xtr[n_pts:,0],xtr[n_pts:,1])\n",
    "plt.show()"
   ]
  },
  {
   "cell_type": "code",
   "execution_count": null,
   "metadata": {},
   "outputs": [],
   "source": [
    "from keras.models import Sequential\n",
    "from keras.layers import Dense\n",
    "from keras.optimizers import Adam"
   ]
  },
  {
   "cell_type": "markdown",
   "metadata": {},
   "source": [
    "For Binary (2 class classification) , loss = 'binary_crossentropy' <br>\n",
    "For more than 2-classes, loss = 'categorical_crossentropy'"
   ]
  },
  {
   "cell_type": "code",
   "execution_count": null,
   "metadata": {},
   "outputs": [],
   "source": [
    "model = Sequential()\n",
    "model.add(Dense(1,input_dim=2,activation='sigmoid'))\n",
    "model.compile(Adam(lr=0.03),loss='binary_crossentropy',\n",
    "             metrics=['accuracy'])\n",
    "print(model.summary())"
   ]
  },
  {
   "cell_type": "code",
   "execution_count": null,
   "metadata": {},
   "outputs": [],
   "source": [
    "h = model.fit(xtr,ytr,epochs=100,verbose=1)"
   ]
  },
  {
   "cell_type": "code",
   "execution_count": null,
   "metadata": {},
   "outputs": [],
   "source": [
    "plt.plot(h.history['loss'],label='loss')\n",
    "plt.plot(h.history['accuracy'],label='accuracy')\n",
    "plt.legend()\n",
    "plt.show()"
   ]
  },
  {
   "cell_type": "code",
   "execution_count": null,
   "metadata": {},
   "outputs": [],
   "source": [
    "x_max , x_min = xtr[:,0].max()+1, xtr[:,0].min()-1\n",
    "y_max , y_min = xtr[:,1].max()+1, xtr[:,1].min()-1\n",
    "\n",
    "xx,yy = np.meshgrid(np.linspace(x_min,x_max),\n",
    "                   np.linspace(y_min,y_max))\n",
    "grid = np.c_[xx.ravel(),yy.ravel()]\n",
    "\n",
    "pred = model.predict(grid).reshape(xx.shape)\n",
    "\n",
    "\n",
    "plt.contourf(xx,yy,pred)\n",
    "plt.scatter(xtr[:n_pts,0],xtr[:n_pts,1])\n",
    "plt.scatter(xtr[n_pts:,0],xtr[n_pts:,1])\n",
    "plt.show()"
   ]
  },
  {
   "cell_type": "code",
   "execution_count": null,
   "metadata": {},
   "outputs": [],
   "source": []
  }
 ],
 "metadata": {
  "kernelspec": {
   "display_name": "Python 3",
   "language": "python",
   "name": "python3"
  },
  "language_info": {
   "codemirror_mode": {
    "name": "ipython",
    "version": 3
   },
   "file_extension": ".py",
   "mimetype": "text/x-python",
   "name": "python",
   "nbconvert_exporter": "python",
   "pygments_lexer": "ipython3",
   "version": "3.7.3"
  }
 },
 "nbformat": 4,
 "nbformat_minor": 2
}
