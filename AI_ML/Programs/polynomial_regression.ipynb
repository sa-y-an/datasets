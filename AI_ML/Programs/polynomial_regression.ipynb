{
 "cells": [
  {
   "cell_type": "code",
   "execution_count": 51,
   "metadata": {},
   "outputs": [],
   "source": [
    "import numpy as np\n",
    "import matplotlib.pyplot as plt\n",
    "from keras.models import Sequential \n",
    "from keras.layers import Dense\n",
    "from keras.optimizers import Adam"
   ]
  },
  {
   "cell_type": "code",
   "execution_count": 49,
   "metadata": {},
   "outputs": [],
   "source": [
    "n_pts = 100\n",
    "x = np.linspace(-3,3,n_pts)\n",
    "y = np.sin(x)+np.random.uniform(-0.5,0.5,n_pts)"
   ]
  },
  {
   "cell_type": "code",
   "execution_count": 50,
   "metadata": {},
   "outputs": [
    {
     "data": {
      "image/png": "[encoded data removed]",
      "text/plain": [
       "<Figure size 432x288 with 1 Axes>"
      ]
     },
     "metadata": {
      "needs_background": "light"
     },
     "output_type": "display_data"
    }
   ],
   "source": [
    "plt.scatter(x,y)\n",
    "plt.show()"
   ]
  },
  {
   "cell_type": "code",
   "execution_count": 64,
   "metadata": {},
   "outputs": [
    {
     "name": "stdout",
     "output_type": "stream",
     "text": [
      "Model: \"sequential_5\"\n",
      "_________________________________________________________________\n",
      "Layer (type)                 Output Shape              Param #   \n",
      "=================================================================\n",
      "dense_10 (Dense)             (None, 50)                100       \n",
      "_________________________________________________________________\n",
      "dense_11 (Dense)             (None, 25)                1275      \n",
      "_________________________________________________________________\n",
      "dense_12 (Dense)             (None, 1)                 26        \n",
      "=================================================================\n",
      "Total params: 1,401\n",
      "Trainable params: 1,401\n",
      "Non-trainable params: 0\n",
      "_________________________________________________________________\n",
      "None\n"
     ]
    }
   ],
   "source": [
    "model = Sequential()\n",
    "model.add(Dense(50, input_dim = 1, activation='tanh'))\n",
    "model.add(Dense(25,activation='tanh'))\n",
    "model.add(Dense(1))\n",
    "model.compile(Adam(lr=0.01),loss='mse')\n",
    "print(model.summary())"
   ]
  },
  {
   "cell_type": "code",
   "execution_count": 65,
   "metadata": {},
   "outputs": [
    {
     "name": "stdout",
     "output_type": "stream",
     "text": [
      "Epoch 1/100\n",
      "100/100 [==============================] - 0s 2ms/step - loss: 0.4557\n",
      "Epoch 2/100\n",
      "100/100 [==============================] - 0s 73us/step - loss: 0.2638\n",
      "Epoch 3/100\n",
      "100/100 [==============================] - 0s 202us/step - loss: 0.2373\n",
      "Epoch 4/100\n",
      "100/100 [==============================] - 0s 84us/step - loss: 0.2388\n",
      "Epoch 5/100\n",
      "100/100 [==============================] - 0s 200us/step - loss: 0.1973\n",
      "Epoch 6/100\n",
      "100/100 [==============================] - 0s 150us/step - loss: 0.1776\n",
      "Epoch 7/100\n",
      "100/100 [==============================] - 0s 180us/step - loss: 0.1520\n",
      "Epoch 8/100\n",
      "100/100 [==============================] - 0s 180us/step - loss: 0.1160\n",
      "Epoch 9/100\n",
      "100/100 [==============================] - 0s 179us/step - loss: 0.1111\n",
      "Epoch 10/100\n",
      "100/100 [==============================] - 0s 349us/step - loss: 0.1095\n",
      "Epoch 11/100\n",
      "100/100 [==============================] - 0s 249us/step - loss: 0.1053\n",
      "Epoch 12/100\n",
      "100/100 [==============================] - 0s 180us/step - loss: 0.1112\n",
      "Epoch 13/100\n",
      "100/100 [==============================] - 0s 249us/step - loss: 0.1217\n",
      "Epoch 14/100\n",
      "100/100 [==============================] - 0s 180us/step - loss: 0.1233\n",
      "Epoch 15/100\n",
      "100/100 [==============================] - 0s 180us/step - loss: 0.1090\n",
      "Epoch 16/100\n",
      "100/100 [==============================] - 0s 150us/step - loss: 0.1061\n",
      "Epoch 17/100\n",
      "100/100 [==============================] - 0s 170us/step - loss: 0.1071\n",
      "Epoch 18/100\n",
      "100/100 [==============================] - 0s 207us/step - loss: 0.1013\n",
      "Epoch 19/100\n",
      "100/100 [==============================] - 0s 150us/step - loss: 0.1070\n",
      "Epoch 20/100\n",
      "100/100 [==============================] - 0s 160us/step - loss: 0.1025\n",
      "Epoch 21/100\n",
      "100/100 [==============================] - 0s 170us/step - loss: 0.1039\n",
      "Epoch 22/100\n",
      "100/100 [==============================] - 0s 170us/step - loss: 0.1009\n",
      "Epoch 23/100\n",
      "100/100 [==============================] - 0s 170us/step - loss: 0.0996\n",
      "Epoch 24/100\n",
      "100/100 [==============================] - 0s 180us/step - loss: 0.0985\n",
      "Epoch 25/100\n",
      "100/100 [==============================] - 0s 189us/step - loss: 0.1002\n",
      "Epoch 26/100\n",
      "100/100 [==============================] - 0s 170us/step - loss: 0.1060\n",
      "Epoch 27/100\n",
      "100/100 [==============================] - 0s 180us/step - loss: 0.0994\n",
      "Epoch 28/100\n",
      "100/100 [==============================] - 0s 160us/step - loss: 0.1055\n",
      "Epoch 29/100\n",
      "100/100 [==============================] - 0s 229us/step - loss: 0.1194\n",
      "Epoch 30/100\n",
      "100/100 [==============================] - 0s 140us/step - loss: 0.1135\n",
      "Epoch 31/100\n",
      "100/100 [==============================] - 0s 189us/step - loss: 0.0979\n",
      "Epoch 32/100\n",
      "100/100 [==============================] - ETA: 0s - loss: 0.098 - 0s 150us/step - loss: 0.1008\n",
      "Epoch 33/100\n",
      "100/100 [==============================] - 0s 150us/step - loss: 0.0977\n",
      "Epoch 34/100\n",
      "100/100 [==============================] - 0s 209us/step - loss: 0.1014\n",
      "Epoch 35/100\n",
      "100/100 [==============================] - 0s 209us/step - loss: 0.0997\n",
      "Epoch 36/100\n",
      "100/100 [==============================] - 0s 249us/step - loss: 0.1053\n",
      "Epoch 37/100\n",
      "100/100 [==============================] - 0s 219us/step - loss: 0.1046\n",
      "Epoch 38/100\n",
      "100/100 [==============================] - 0s 160us/step - loss: 0.1062\n",
      "Epoch 39/100\n",
      "100/100 [==============================] - 0s 160us/step - loss: 0.1201\n",
      "Epoch 40/100\n",
      "100/100 [==============================] - 0s 150us/step - loss: 0.1089\n",
      "Epoch 41/100\n",
      "100/100 [==============================] - 0s 130us/step - loss: 0.1173\n",
      "Epoch 42/100\n",
      "100/100 [==============================] - 0s 150us/step - loss: 0.0941\n",
      "Epoch 43/100\n",
      "100/100 [==============================] - 0s 189us/step - loss: 0.0949\n",
      "Epoch 44/100\n",
      "100/100 [==============================] - 0s 229us/step - loss: 0.0968\n",
      "Epoch 45/100\n",
      "100/100 [==============================] - 0s 160us/step - loss: 0.0961\n",
      "Epoch 46/100\n",
      "100/100 [==============================] - 0s 180us/step - loss: 0.0964\n",
      "Epoch 47/100\n",
      "100/100 [==============================] - 0s 110us/step - loss: 0.0956\n",
      "Epoch 48/100\n",
      "100/100 [==============================] - 0s 180us/step - loss: 0.1196\n",
      "Epoch 49/100\n",
      "100/100 [==============================] - 0s 160us/step - loss: 0.1167\n",
      "Epoch 50/100\n",
      "100/100 [==============================] - 0s 239us/step - loss: 0.0979\n",
      "Epoch 51/100\n",
      "100/100 [==============================] - 0s 170us/step - loss: 0.0994\n",
      "Epoch 52/100\n",
      "100/100 [==============================] - 0s 150us/step - loss: 0.1164\n",
      "Epoch 53/100\n",
      "100/100 [==============================] - 0s 249us/step - loss: 0.0967\n",
      "Epoch 54/100\n",
      "100/100 [==============================] - 0s 180us/step - loss: 0.1009\n",
      "Epoch 55/100\n",
      "100/100 [==============================] - 0s 170us/step - loss: 0.0926\n",
      "Epoch 56/100\n",
      "100/100 [==============================] - 0s 100us/step - loss: 0.0957\n",
      "Epoch 57/100\n",
      "100/100 [==============================] - 0s 140us/step - loss: 0.1088\n",
      "Epoch 58/100\n",
      "100/100 [==============================] - 0s 150us/step - loss: 0.0962\n",
      "Epoch 59/100\n",
      "100/100 [==============================] - 0s 225us/step - loss: 0.0954\n",
      "Epoch 60/100\n",
      "100/100 [==============================] - 0s 165us/step - loss: 0.1025\n",
      "Epoch 61/100\n",
      "100/100 [==============================] - 0s 150us/step - loss: 0.0971\n",
      "Epoch 62/100\n",
      "100/100 [==============================] - 0s 130us/step - loss: 0.1163\n",
      "Epoch 63/100\n",
      "100/100 [==============================] - 0s 140us/step - loss: 0.1441\n",
      "Epoch 64/100\n",
      "100/100 [==============================] - 0s 140us/step - loss: 0.1167\n",
      "Epoch 65/100\n",
      "100/100 [==============================] - 0s 170us/step - loss: 0.1449\n",
      "Epoch 66/100\n",
      "100/100 [==============================] - 0s 90us/step - loss: 0.1138\n",
      "Epoch 67/100\n",
      "100/100 [==============================] - 0s 150us/step - loss: 0.1029\n",
      "Epoch 68/100\n",
      "100/100 [==============================] - 0s 160us/step - loss: 0.1005\n",
      "Epoch 69/100\n",
      "100/100 [==============================] - 0s 120us/step - loss: 0.1043\n",
      "Epoch 70/100\n",
      "100/100 [==============================] - 0s 140us/step - loss: 0.0973\n",
      "Epoch 71/100\n",
      "100/100 [==============================] - 0s 170us/step - loss: 0.0974\n",
      "Epoch 72/100\n",
      "100/100 [==============================] - 0s 160us/step - loss: 0.0929\n",
      "Epoch 73/100\n",
      "100/100 [==============================] - 0s 140us/step - loss: 0.0932\n",
      "Epoch 74/100\n",
      "100/100 [==============================] - 0s 145us/step - loss: 0.0961\n",
      "Epoch 75/100\n",
      "100/100 [==============================] - 0s 150us/step - loss: 0.1106\n",
      "Epoch 76/100\n",
      "100/100 [==============================] - 0s 140us/step - loss: 0.1138\n",
      "Epoch 77/100\n",
      "100/100 [==============================] - 0s 180us/step - loss: 0.1093\n",
      "Epoch 78/100\n",
      "100/100 [==============================] - 0s 170us/step - loss: 0.0944\n",
      "Epoch 79/100\n",
      "100/100 [==============================] - 0s 160us/step - loss: 0.0986\n",
      "Epoch 80/100\n",
      "100/100 [==============================] - 0s 160us/step - loss: 0.0930\n",
      "Epoch 81/100\n",
      "100/100 [==============================] - 0s 180us/step - loss: 0.1054\n",
      "Epoch 82/100\n",
      "100/100 [==============================] - 0s 150us/step - loss: 0.0932\n",
      "Epoch 83/100\n",
      "100/100 [==============================] - 0s 120us/step - loss: 0.1192\n",
      "Epoch 84/100\n",
      "100/100 [==============================] - 0s 90us/step - loss: 0.1110\n",
      "Epoch 85/100\n",
      "100/100 [==============================] - 0s 160us/step - loss: 0.1056\n",
      "Epoch 86/100\n",
      "100/100 [==============================] - 0s 109us/step - loss: 0.0949\n",
      "Epoch 87/100\n",
      "100/100 [==============================] - 0s 120us/step - loss: 0.1160\n",
      "Epoch 88/100\n",
      "100/100 [==============================] - 0s 100us/step - loss: 0.0967\n",
      "Epoch 89/100\n",
      "100/100 [==============================] - 0s 179us/step - loss: 0.0953\n",
      "Epoch 90/100\n",
      "100/100 [==============================] - 0s 199us/step - loss: 0.1097\n",
      "Epoch 91/100\n",
      "100/100 [==============================] - 0s 249us/step - loss: 0.0939\n",
      "Epoch 92/100\n",
      "100/100 [==============================] - 0s 170us/step - loss: 0.1035\n",
      "Epoch 93/100\n",
      "100/100 [==============================] - 0s 170us/step - loss: 0.1245\n",
      "Epoch 94/100\n",
      "100/100 [==============================] - 0s 90us/step - loss: 0.0949\n",
      "Epoch 95/100\n",
      "100/100 [==============================] - 0s 110us/step - loss: 0.1477\n",
      "Epoch 96/100\n",
      "100/100 [==============================] - 0s 140us/step - loss: 0.1073\n",
      "Epoch 97/100\n"
     ]
    },
    {
     "name": "stdout",
     "output_type": "stream",
     "text": [
      "100/100 [==============================] - 0s 150us/step - loss: 0.0907\n",
      "Epoch 98/100\n",
      "100/100 [==============================] - 0s 110us/step - loss: 0.0946\n",
      "Epoch 99/100\n",
      "100/100 [==============================] - ETA: 0s - loss: 0.119 - 0s 140us/step - loss: 0.0979\n",
      "Epoch 100/100\n",
      "100/100 [==============================] - 0s 140us/step - loss: 0.0934\n"
     ]
    },
    {
     "data": {
      "text/plain": [
       "<keras.callbacks.callbacks.History at 0x1e1b70e1630>"
      ]
     },
     "execution_count": 65,
     "metadata": {},
     "output_type": "execute_result"
    }
   ],
   "source": [
    "model.fit(x,y,epochs=100,verbose=1)"
   ]
  },
  {
   "cell_type": "code",
   "execution_count": 66,
   "metadata": {},
   "outputs": [
    {
     "data": {
      "image/png": "[encoded data removed]",
      "text/plain": [
       "<Figure size 432x288 with 1 Axes>"
      ]
     },
     "metadata": {
      "needs_background": "light"
     },
     "output_type": "display_data"
    }
   ],
   "source": [
    "plt.scatter(x,y,color='b')\n",
    "plt.plot(x,model.predict(x),color='r')\n",
    "plt.show()"
   ]
  },
  {
   "cell_type": "code",
   "execution_count": null,
   "metadata": {},
   "outputs": [],
   "source": []
  },
  {
   "cell_type": "code",
   "execution_count": null,
   "metadata": {},
   "outputs": [],
   "source": []
  }
 ],
 "metadata": {
  "kernelspec": {
   "display_name": "Python 3",
   "language": "python",
   "name": "python3"
  },
  "language_info": {
   "codemirror_mode": {
    "name": "ipython",
    "version": 3
   },
   "file_extension": ".py",
   "mimetype": "text/x-python",
   "name": "python",
   "nbconvert_exporter": "python",
   "pygments_lexer": "ipython3",
   "version": "3.7.3"
  }
 },
 "nbformat": 4,
 "nbformat_minor": 2
}
